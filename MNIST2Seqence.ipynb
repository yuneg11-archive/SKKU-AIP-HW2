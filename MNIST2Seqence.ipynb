{
  "nbformat": 4,
  "nbformat_minor": 0,
  "metadata": {
    "colab": {
      "name": "MNIST2Seqence.ipynb",
      "version": "0.3.2",
      "provenance": [],
      "collapsed_sections": []
    },
    "kernelspec": {
      "name": "python3",
      "display_name": "Python 3"
    },
    "accelerator": "GPU"
  },
  "cells": [
    {
      "cell_type": "markdown",
      "metadata": {
        "id": "cH0UVWDN5rV0",
        "colab_type": "text"
      },
      "source": [
        "# Load Data"
      ]
    },
    {
      "cell_type": "code",
      "metadata": {
        "id": "gm5fxiOsC8YA",
        "colab_type": "code",
        "cellView": "form",
        "colab": {}
      },
      "source": [
        "#@title # Load MNIST Data\n",
        "#@markdown ### Train data: 60000 samples\n",
        "#@markdown * Input shape: (28, 28) -> 28x28 Image\n",
        "#@markdown * Label shape: (5) -> Text label\n",
        "#@markdown\n",
        "#@markdown ### Train data: 10000 samples\n",
        "#@markdown * Input shape: (28, 28) -> 28x28 Image\n",
        "#@markdown * Label shape: (5) -> Text label\n",
        "from IPython.display import clear_output\n",
        "import tensorflow as tf\n",
        "import numpy as np\n",
        "\n",
        "index_to_character = [idx for idx in \"Pabcdefghijklmnopqrstuvwxyz\"]\n",
        "character_to_index = {char: idx for idx, char in enumerate(index_to_character)}\n",
        "label_to_text = [[\"z\", \"e\", \"r\", \"o\", \"P\"], [\"o\", \"n\", \"e\", \"P\", \"P\"], [\"t\", \"w\", \"o\", \"P\", \"P\"],[\"t\", \"h\", \"r\", \"e\", \"e\"], [\"f\", \"o\", \"u\", \"r\", \"P\"],\n",
        "                         [\"f\", \"i\", \"v\", \"e\", \"P\"], [\"s\", \"i\", \"x\", \"P\", \"P\"], [\"s\", \"e\", \"v\", \"e\", \"n\"], [\"e\", \"i\", \"g\", \"h\", \"t\"],  [\"n\", \"i\", \"n\", \"e\", \"P\"]]\n",
        "label_to_index_array = [[character_to_index[char] for char in txt] for txt in label_to_text]\n",
        "\n",
        "def index_array_to_label(index_array):\n",
        "    return [index_to_character[idx] for idx in index_array]\n",
        "\n",
        "def prediction_to_label(prediction):\n",
        "    return [index_array_to_label(idx_array) for idx_array in prediction.tolist()]\n",
        "\n",
        "(x_train, y_train),(x_test, y_test) = tf.keras.datasets.mnist.load_data()\n",
        "y_train = np.array([label_to_index_array[label] for label in y_train])\n",
        "#y_test = np.array([label_to_index_array[label] for label in y_test])\n",
        "y_train_onehot = np.array([np.eye(len(index_to_character))[y_train_elem] for y_train_elem in y_train])\n",
        "\n",
        "clear_output()"
      ],
      "execution_count": 0,
      "outputs": []
    },
    {
      "cell_type": "markdown",
      "metadata": {
        "id": "pofJ-rII7gAL",
        "colab_type": "text"
      },
      "source": [
        "# Build Model"
      ]
    },
    {
      "cell_type": "code",
      "metadata": {
        "id": "a75aRgdat_O4",
        "colab_type": "code",
        "colab": {},
        "cellView": "form"
      },
      "source": [
        "#@title ## 1.Define Block\n",
        "#@markdown * ### Input (input_shape, dtype)\n",
        "#@markdown * ### Reshape(input_layer, input_shape)\n",
        "#@markdown * ### CNN(input_layer, input_channel, output_channel, pool_shape)\n",
        "#@markdown * ### FlatDense(input_layer, input_nodes, output_nodes)\n",
        "#@markdown * ### Dense(input_layer, nodes, activation)\n",
        "#@markdown * ### RNN(input_layer, hidden_nodes, initial_state)\n",
        "\n",
        "def Input(input_shape, dtype):\n",
        "    return tf.placeholder(dtype, [None] + input_shape)\n",
        "\n",
        "def Reshape(input_layer, input_shape):\n",
        "    return tf.reshape(input_layer, [-1] + input_shape + [1])\n",
        "\n",
        "def CNN(input_layer, input_channel, output_channel, pool_shape):\n",
        "    conv2d_filter = tf.Variable(tf.random_normal([5, 5, input_channel, output_channel], stddev=0.01))\n",
        "    n = tf.nn.relu(tf.nn.conv2d(input_layer, filter=conv2d_filter, strides=[1, 1, 1, 1, ], padding='SAME'))\n",
        "    return tf.nn.max_pool(n, ksize=[1] + pool_shape + [1], strides=[1] + pool_shape + [1], padding='SAME')\n",
        "\n",
        "def FlatDense(input_layer, input_nodes, output_nodes):\n",
        "    input_flat = tf.reshape(input_layer, [-1, input_nodes])\n",
        "    w = tf.Variable(tf.random_normal([input_nodes, output_nodes], stddev=0.01))\n",
        "    return tf.nn.relu(tf.matmul(input_flat, w))\n",
        "\n",
        "def Dense(input_layer, nodes, activation):\n",
        "    return tf.layers.dense(input_layer, nodes, activation=activation)\n",
        "\n",
        "def RNN(input_layer, hidden_nodes, initial_state):\n",
        "    rnn_cell = tf.nn.rnn_cell.BasicRNNCell(hidden_nodes)\n",
        "    output, _ = tf.nn.dynamic_rnn(rnn_cell, input_layer, initial_state=initial_state, dtype=tf.float32)\n",
        "    return output"
      ],
      "execution_count": 0,
      "outputs": []
    },
    {
      "cell_type": "code",
      "metadata": {
        "id": "m1Afgi7v-zmb",
        "colab_type": "code",
        "colab": {},
        "cellView": "form"
      },
      "source": [
        "#@title ## 2. Define Model\n",
        "#@markdown * ## Encoder\n",
        "#@markdown 1. ### ImageInput → CNN_Block_1\n",
        "#@markdown 2. ### CNN_Block_1 → CNN_Block_2\n",
        "#@markdown 3. ### CNN_Block_2 → FlatDense = Encoder State\n",
        "#@markdown * ## Decoder\n",
        "#@markdown 1. ### Input → RNN\n",
        "#@markdown 2. ### RNN → Dense = Output\n",
        "\n",
        "tf.reset_default_graph()\n",
        "\n",
        "image_input = Input([28, 28], tf.float32)\n",
        "image_reshape = Reshape(image_input, [28, 28])\n",
        "cnn_block_1 = CNN(image_reshape, input_channel=1, output_channel=32, pool_shape=[2, 2])\n",
        "cnn_block_2 = CNN(cnn_block_1, input_channel=32, output_channel=64, pool_shape=[2, 2])\n",
        "encoder_state = FlatDense(cnn_block_2, 7 * 7 * 64, 128)\n",
        "\n",
        "decoder_input = Input([5, len(index_to_character)], tf.float32)\n",
        "decoder_target = Input([5], tf.int64)\n",
        "decoder_output = RNN(decoder_input, 128, encoder_state)\n",
        "\n",
        "model = Dense(decoder_output, len(index_to_character), activation=None)\n",
        "\n",
        "clear_output()"
      ],
      "execution_count": 0,
      "outputs": []
    },
    {
      "cell_type": "code",
      "metadata": {
        "id": "iPiv-4MUxgL_",
        "colab_type": "code",
        "colab": {},
        "cellView": "form"
      },
      "source": [
        "#@title ## 3. Define Cost and Optimizer\n",
        "#@markdown * ### Cost: Softmax Cross Entropy\n",
        "#@markdown * ### Optimizer: Adam (Learning rate = 0.001)\n",
        "\n",
        "cost = tf.reduce_mean(tf.nn.sparse_softmax_cross_entropy_with_logits(logits=model, labels=decoder_target))\n",
        "optimizer = tf.train.AdamOptimizer(0.001).minimize(cost)\n",
        "\n",
        "clear_output()"
      ],
      "execution_count": 0,
      "outputs": []
    },
    {
      "cell_type": "code",
      "metadata": {
        "id": "xNvtN2BVDUVJ",
        "colab_type": "code",
        "outputId": "d49804bb-a937-488e-9c7c-f4523c5342c9",
        "colab": {
          "base_uri": "https://localhost:8080/",
          "height": 204
        },
        "cellView": "form"
      },
      "source": [
        "#@title ## 1. Train Model\n",
        "\n",
        "Epoch = 10 #@param {type:\"integer\"}\n",
        "Batch_Size = 100 #@param {type:\"integer\"}\n",
        "\n",
        "train_histroy = {'train_cost': []}\n",
        "\n",
        "sess = tf.Session()\n",
        "sess.run(tf.global_variables_initializer())\n",
        "\n",
        "total_batch = x_train.shape[0] // Batch_Size\n",
        "\n",
        "for epoch in range(Epoch):\n",
        "    total_train_cost = 0\n",
        "        \n",
        "    for i in range(total_batch):\n",
        "        input_batch = x_train[i * Batch_Size : (i+1) * Batch_Size]\n",
        "        output_batch = y_train_onehot[i * Batch_Size : (i+1) * Batch_Size]\n",
        "        target_batch = y_train[i * Batch_Size : (i+1) * Batch_Size]\n",
        "            \n",
        "        feed_dict={image_input: input_batch, decoder_input: output_batch, decoder_target: target_batch}    \n",
        "        _, loss = sess.run([optimizer, cost], feed_dict=feed_dict)\n",
        "        total_train_cost += loss\n",
        "            \n",
        "    train_histroy['train_cost'].append(total_train_cost / total_batch);\n",
        "\n",
        "    print('Epoch: {0:04d} - '.format(epoch + 1), end='')\n",
        "    print('Avg. cost: {0:.5f}, '.format(train_histroy['train_cost'][-1]))\n",
        "        \n",
        "print('Training done.')"
      ],
      "execution_count": 5,
      "outputs": [
        {
          "output_type": "stream",
          "text": [
            "Epoch: 0001 - Avg. cost: 0.13526, \n",
            "Epoch: 0002 - Avg. cost: 0.00572, \n",
            "Epoch: 0003 - Avg. cost: 0.00111, \n",
            "Epoch: 0004 - Avg. cost: 0.00035, \n",
            "Epoch: 0005 - Avg. cost: 0.00016, \n",
            "Epoch: 0006 - Avg. cost: 0.00009, \n",
            "Epoch: 0007 - Avg. cost: 0.00006, \n",
            "Epoch: 0008 - Avg. cost: 0.00004, \n",
            "Epoch: 0009 - Avg. cost: 0.00003, \n",
            "Epoch: 0010 - Avg. cost: 0.00002, \n",
            "Training done.\n"
          ],
          "name": "stdout"
        }
      ]
    },
    {
      "cell_type": "code",
      "metadata": {
        "id": "hP2XFxm2J0-p",
        "colab_type": "code",
        "colab": {
          "base_uri": "https://localhost:8080/",
          "height": 269
        },
        "cellView": "form",
        "outputId": "97b400d3-c245-4c70-bf69-637274be1eab"
      },
      "source": [
        "#@title ## 2. Plot Train Result\n",
        "import matplotlib.pyplot as plt\n",
        "\n",
        "plt.plot(train_histroy['train_cost'])\n",
        "plt.show()"
      ],
      "execution_count": 6,
      "outputs": [
        {
          "output_type": "display_data",
          "data": {
            "image/png": "[encoded data removed]",
            "text/plain": [
              "<Figure size 432x288 with 1 Axes>"
            ]
          },
          "metadata": {
            "tags": []
          }
        }
      ]
    },
    {
      "cell_type": "code",
      "metadata": {
        "id": "rVIuIWTpaxjP",
        "colab_type": "code",
        "colab": {
          "base_uri": "https://localhost:8080/",
          "height": 544
        },
        "cellView": "form",
        "outputId": "daa72947-67e2-4239-d652-4b4aa98a1aa8"
      },
      "source": [
        "#@title ## 3. Test Prediction\n",
        "Test_Begin_Index = 20 #@param {type:\"integer\"}\n",
        "Test_End_Index = 50 #@param {type:\"integer\"}\n",
        "\n",
        "input_test = x_test[Test_Begin_Index : Test_End_Index+1]\n",
        "zeros = np.zeros((input_test.shape[0], 5, len(index_to_character)))\n",
        "argmax = tf.argmax(model, 2)\n",
        "prediction = sess.run(argmax, feed_dict={image_input: input_test, decoder_input: zeros})\n",
        "    \n",
        "for idx in range(Test_Begin_Index, Test_End_Index+1):\n",
        "    label = index_array_to_label(prediction[idx - Test_Begin_Index])\n",
        "    print(\"[Test {0:d}] {1:d} - \".format(idx, y_test[idx]), end='')\n",
        "    print(''.join(label))"
      ],
      "execution_count": 7,
      "outputs": [
        {
          "output_type": "stream",
          "text": [
            "[Test 20] 9 - nineP\n",
            "[Test 21] 6 - sixPP\n",
            "[Test 22] 6 - sixPP\n",
            "[Test 23] 5 - fiveP\n",
            "[Test 24] 4 - fourP\n",
            "[Test 25] 0 - zeroP\n",
            "[Test 26] 7 - seven\n",
            "[Test 27] 4 - fourP\n",
            "[Test 28] 0 - zeroP\n",
            "[Test 29] 1 - onePP\n",
            "[Test 30] 3 - three\n",
            "[Test 31] 1 - onePP\n",
            "[Test 32] 3 - three\n",
            "[Test 33] 4 - fourP\n",
            "[Test 34] 7 - seven\n",
            "[Test 35] 2 - twoPP\n",
            "[Test 36] 7 - seven\n",
            "[Test 37] 1 - onePP\n",
            "[Test 38] 2 - twoPP\n",
            "[Test 39] 1 - onePP\n",
            "[Test 40] 1 - onePP\n",
            "[Test 41] 7 - seven\n",
            "[Test 42] 4 - fourP\n",
            "[Test 43] 2 - twoPP\n",
            "[Test 44] 3 - three\n",
            "[Test 45] 5 - fiveP\n",
            "[Test 46] 1 - onePP\n",
            "[Test 47] 2 - twoPP\n",
            "[Test 48] 4 - fourP\n",
            "[Test 49] 4 - fourP\n",
            "[Test 50] 6 - sixPP\n"
          ],
          "name": "stdout"
        }
      ]
    },
    {
      "cell_type": "code",
      "metadata": {
        "id": "c4JNKVl7Pk9H",
        "colab_type": "code",
        "colab": {},
        "cellView": "form"
      },
      "source": [
        "#@title ## 4. Close Session\n",
        "sess.close()"
      ],
      "execution_count": 0,
      "outputs": []
    }
  ]
}